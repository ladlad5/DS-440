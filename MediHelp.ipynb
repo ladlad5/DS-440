{
 "cells": [
  {
   "cell_type": "code",
   "execution_count": 1,
   "id": "0dbbd08b-a597-447c-8948-8213edd470d5",
   "metadata": {},
   "outputs": [
    {
     "name": "stdout",
     "output_type": "stream",
     "text": [
      "Requirement already satisfied: ollama in c:\\cmpsc448\\lib\\site-packages (0.4.7)\n",
      "Requirement already satisfied: httpx<0.29,>=0.27 in c:\\cmpsc448\\lib\\site-packages (from ollama) (0.27.0)\n",
      "Requirement already satisfied: pydantic<3.0.0,>=2.9.0 in c:\\cmpsc448\\lib\\site-packages (from ollama) (2.10.6)\n",
      "Requirement already satisfied: anyio in c:\\cmpsc448\\lib\\site-packages (from httpx<0.29,>=0.27->ollama) (3.5.0)\n",
      "Requirement already satisfied: certifi in c:\\cmpsc448\\lib\\site-packages (from httpx<0.29,>=0.27->ollama) (2025.1.31)\n",
      "Requirement already satisfied: httpcore==1.* in c:\\cmpsc448\\lib\\site-packages (from httpx<0.29,>=0.27->ollama) (1.0.2)\n",
      "Requirement already satisfied: idna in c:\\cmpsc448\\lib\\site-packages (from httpx<0.29,>=0.27->ollama) (3.4)\n",
      "Requirement already satisfied: sniffio in c:\\cmpsc448\\lib\\site-packages (from httpx<0.29,>=0.27->ollama) (1.2.0)\n",
      "Requirement already satisfied: h11<0.15,>=0.13 in c:\\cmpsc448\\lib\\site-packages (from httpcore==1.*->httpx<0.29,>=0.27->ollama) (0.14.0)\n",
      "Requirement already satisfied: annotated-types>=0.6.0 in c:\\cmpsc448\\lib\\site-packages (from pydantic<3.0.0,>=2.9.0->ollama) (0.6.0)\n",
      "Requirement already satisfied: pydantic-core==2.27.2 in c:\\cmpsc448\\lib\\site-packages (from pydantic<3.0.0,>=2.9.0->ollama) (2.27.2)\n",
      "Requirement already satisfied: typing-extensions>=4.12.2 in c:\\cmpsc448\\lib\\site-packages (from pydantic<3.0.0,>=2.9.0->ollama) (4.12.2)\n"
     ]
    }
   ],
   "source": [
    "import sys\n",
    "!{sys.executable} -m pip install ollama"
   ]
  },
  {
   "cell_type": "code",
   "execution_count": 7,
   "id": "b1427d9f-a7d6-4990-b30f-a20cfec39cd1",
   "metadata": {},
   "outputs": [
    {
     "name": "stdout",
     "output_type": "stream",
     "text": [
      "<think>\n",
      "\n",
      "</think>\n",
      "\n",
      "The color of the sky, known as blue, primarily results from Rayleigh scattering. When sunlight passes through Earth's atmosphere, shorter wavelengths (such as blue and violet) are scattered more effectively than longer wavelengths (like red and orange). This scattering causes the blue light to appear blue to our eyes. Other factors contributing to the observed color include atmospheric particles acting as small scatterers, which also influence how we perceive the sky.\n",
      "<think>\n",
      "\n",
      "</think>\n",
      "\n",
      "The color of the sky, known as blue, primarily results from Rayleigh scattering. When sunlight passes through Earth's atmosphere, shorter wavelengths (such as blue and violet) are scattered more effectively than longer wavelengths (like red and orange). This scattering causes the blue light to appear blue to our eyes. Other factors contributing to the observed color include atmospheric particles acting as small scatterers, which also influence how we perceive the sky.\n"
     ]
    }
   ],
   "source": [
    "from ollama import chat\n",
    "from ollama import ChatResponse\n",
    "\n",
    "response: ChatResponse = chat(model='deepseek-r1:1.5b', messages=[\n",
    "  {\n",
    "    'role': 'user',\n",
    "    'content': 'Why is the sky blue?',\n",
    "  },\n",
    "])\n",
    "print(response['message']['content'])\n",
    "# or access fields directly from the response object\n",
    "print(response.message.content)"
   ]
  },
  {
   "cell_type": "code",
   "execution_count": null,
   "id": "bf577e4b-a365-4f7e-8450-4dfecb992167",
   "metadata": {},
   "outputs": [],
   "source": [
    "import re\n",
    "def ask_MediHelp(input_content, system_prompt, deep_think = True, print_log = True):\n",
    "    response: ChatResponse = chat(model = \"deepseek-r1:1.5b\", message =[\n",
    "        {'role' : 'system', 'content' : system_prompt},\n",
    "        {'role' : 'user', 'content' : input_sontent}\n",
    "    ])\n",
    "    response_text = response['message']['content']\n",
    "    if print_log: print(response_text)\n",
    "    think_texts = re.findall(r\"<think>(.*?)</think>\", response_text, flags=re.DOTALL)\n",
    "    think_texts = \"\\n\\n\".join(think_texts).strip()\n",
    "    clean_response = re.sub(r\"<think>.*?</think>\", '', response_text, flags = re.DOTALL).strip()\n",
    "\n",
    "    return clean_response if not deep_think else (clean_response, think_texts)"
   ]
  }
 ],
 "metadata": {
  "kernelspec": {
   "display_name": "Python [conda env:base] *",
   "language": "python",
   "name": "conda-base-py"
  },
  "language_info": {
   "codemirror_mode": {
    "name": "ipython",
    "version": 3
   },
   "file_extension": ".py",
   "mimetype": "text/x-python",
   "name": "python",
   "nbconvert_exporter": "python",
   "pygments_lexer": "ipython3",
   "version": "3.11.5"
  }
 },
 "nbformat": 4,
 "nbformat_minor": 5
}
